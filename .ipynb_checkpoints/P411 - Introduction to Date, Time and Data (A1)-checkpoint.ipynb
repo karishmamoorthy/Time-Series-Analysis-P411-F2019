{
 "cells": [
  {
   "cell_type": "code",
   "execution_count": 1,
   "metadata": {},
   "outputs": [],
   "source": [
    "import numpy as np"
   ]
  },
  {
   "cell_type": "code",
   "execution_count": 2,
   "metadata": {},
   "outputs": [],
   "source": [
    "import matplotlib.pyplot as plt"
   ]
  },
  {
   "cell_type": "code",
   "execution_count": 3,
   "metadata": {},
   "outputs": [],
   "source": [
    "from datetime import datetime, timedelta"
   ]
  },
  {
   "cell_type": "code",
   "execution_count": 4,
   "metadata": {},
   "outputs": [],
   "source": [
    "%matplotlib nbagg"
   ]
  },
  {
   "cell_type": "code",
   "execution_count": 5,
   "metadata": {},
   "outputs": [],
   "source": [
    "uvic_sci_min = np.loadtxt(\"Data/UVicSci_temperature_minute_data.dat\")"
   ]
  },
  {
   "cell_type": "code",
   "execution_count": 6,
   "metadata": {},
   "outputs": [
    {
     "data": {
      "text/plain": [
       "2979363"
      ]
     },
     "execution_count": 6,
     "metadata": {},
     "output_type": "execute_result"
    }
   ],
   "source": [
    "len(uvic_sci_min)"
   ]
  },
  {
   "cell_type": "code",
   "execution_count": 7,
   "metadata": {},
   "outputs": [
    {
     "data": {
      "text/plain": [
       "734869.0"
      ]
     },
     "execution_count": 7,
     "metadata": {},
     "output_type": "execute_result"
    }
   ],
   "source": [
    "uvic_sci_min[0]"
   ]
  },
  {
   "cell_type": "code",
   "execution_count": 8,
   "metadata": {},
   "outputs": [
    {
     "data": {
      "text/plain": [
       "736937.99931"
      ]
     },
     "execution_count": 8,
     "metadata": {},
     "output_type": "execute_result"
    }
   ],
   "source": [
    "uvic_sci_min[1]"
   ]
  },
  {
   "cell_type": "code",
   "execution_count": 9,
   "metadata": {},
   "outputs": [
    {
     "data": {
      "text/plain": [
       "2979360.0"
      ]
     },
     "execution_count": 9,
     "metadata": {},
     "output_type": "execute_result"
    }
   ],
   "source": [
    "uvic_sci_min[2] #length of the data"
   ]
  },
  {
   "cell_type": "markdown",
   "metadata": {},
   "source": [
    "In MATLAB, datenum(2017,1,1) will return 736696.0 (in decimal days, starting at 01/01/00).\n",
    "\n",
    "We're trying to replicate that here:"
   ]
  },
  {
   "cell_type": "code",
   "execution_count": 10,
   "metadata": {},
   "outputs": [
    {
     "name": "stdout",
     "output_type": "stream",
     "text": [
      "2018-01-03 00:00:00\n"
     ]
    }
   ],
   "source": [
    "#year, month, day - \"year\" starts at 2001 (called 1... not 2001); 0 (i.e. year 2000) returns error.\n",
    "epoch = datetime(1, 1, 1)\n",
    "result = epoch + timedelta(days=736696.0)\n",
    "print(result)"
   ]
  },
  {
   "cell_type": "code",
   "execution_count": 11,
   "metadata": {},
   "outputs": [
    {
     "ename": "ValueError",
     "evalue": "year 0 is out of range",
     "output_type": "error",
     "traceback": [
      "\u001b[0;31m---------------------------------------------------------------------------\u001b[0m",
      "\u001b[0;31mValueError\u001b[0m                                Traceback (most recent call last)",
      "\u001b[0;32m<ipython-input-11-fc6b4dd0de11>\u001b[0m in \u001b[0;36m<module>\u001b[0;34m\u001b[0m\n\u001b[0;32m----> 1\u001b[0;31m \u001b[0mepoch\u001b[0m \u001b[0;34m=\u001b[0m \u001b[0mdatetime\u001b[0m\u001b[0;34m(\u001b[0m\u001b[0mdatetime\u001b[0m\u001b[0;34m.\u001b[0m\u001b[0mnow\u001b[0m\u001b[0;34m(\u001b[0m\u001b[0;34m)\u001b[0m\u001b[0;34m.\u001b[0m\u001b[0myear\u001b[0m \u001b[0;34m-\u001b[0m \u001b[0;36m2019\u001b[0m\u001b[0;34m,\u001b[0m \u001b[0;36m1\u001b[0m\u001b[0;34m,\u001b[0m \u001b[0;36m1\u001b[0m\u001b[0;34m)\u001b[0m\u001b[0;34m\u001b[0m\u001b[0;34m\u001b[0m\u001b[0m\n\u001b[0m\u001b[1;32m      2\u001b[0m \u001b[0mresult\u001b[0m \u001b[0;34m=\u001b[0m \u001b[0mepoch\u001b[0m \u001b[0;34m+\u001b[0m \u001b[0mtimedelta\u001b[0m\u001b[0;34m(\u001b[0m\u001b[0mdays\u001b[0m\u001b[0;34m=\u001b[0m\u001b[0;36m736696.0\u001b[0m\u001b[0;34m)\u001b[0m\u001b[0;34m\u001b[0m\u001b[0;34m\u001b[0m\u001b[0m\n\u001b[1;32m      3\u001b[0m \u001b[0mprint\u001b[0m\u001b[0;34m(\u001b[0m\u001b[0mresult\u001b[0m\u001b[0;34m)\u001b[0m\u001b[0;34m\u001b[0m\u001b[0;34m\u001b[0m\u001b[0m\n",
      "\u001b[0;31mValueError\u001b[0m: year 0 is out of range"
     ]
    }
   ],
   "source": [
    "epoch = datetime(datetime.now().year - 2019, 1, 1)\n",
    "result = epoch + timedelta(days=736696.0)\n",
    "print(result)"
   ]
  },
  {
   "cell_type": "code",
   "execution_count": 13,
   "metadata": {},
   "outputs": [
    {
     "name": "stdout",
     "output_type": "stream",
     "text": [
      "2017-01-01 00:00:00\n"
     ]
    }
   ],
   "source": [
    "epoch = datetime(1, 1, 1)\n",
    "result = epoch + timedelta(days=736696.0 - 367.0)\n",
    "print(result)"
   ]
  },
  {
   "cell_type": "markdown",
   "metadata": {},
   "source": [
    "Therefore, we use the offset I found above:"
   ]
  },
  {
   "cell_type": "code",
   "execution_count": 22,
   "metadata": {},
   "outputs": [],
   "source": [
    "tt_start = uvic_sci_min[0]\n",
    "tt_end = uvic_sci_min[1]\n",
    "NT = uvic_sci_min[2]"
   ]
  },
  {
   "cell_type": "code",
   "execution_count": 15,
   "metadata": {},
   "outputs": [],
   "source": [
    "epoch = datetime(1, 1, 1)\n",
    "tt_start_pretty = epoch + timedelta(days=tt_start-367.0) \n",
    "tt_end_pretty = epoch + timedelta(days=tt_end-367.0) "
   ]
  },
  {
   "cell_type": "code",
   "execution_count": 20,
   "metadata": {},
   "outputs": [
    {
     "name": "stdout",
     "output_type": "stream",
     "text": [
      "Start time : 2012-01-01 00:00:00\n",
      "End time : 2017-08-30 23:59:00.383999\n"
     ]
    }
   ],
   "source": [
    "print(\"Start time :\", tt_start_pretty)\n",
    "print(\"End time :\", tt_end_pretty)"
   ]
  },
  {
   "cell_type": "code",
   "execution_count": 24,
   "metadata": {},
   "outputs": [],
   "source": [
    "tt = np.linspace(tt_start, tt_end, int(NT))"
   ]
  },
  {
   "cell_type": "code",
   "execution_count": 30,
   "metadata": {},
   "outputs": [
    {
     "data": {
      "application/javascript": [
       "/* Put everything inside the global mpl namespace */\n",
       "window.mpl = {};\n",
       "\n",
       "\n",
       "mpl.get_websocket_type = function() {\n",
       "    if (typeof(WebSocket) !== 'undefined') {\n",
       "        return WebSocket;\n",
       "    } else if (typeof(MozWebSocket) !== 'undefined') {\n",
       "        return MozWebSocket;\n",
       "    } else {\n",
       "        alert('Your browser does not have WebSocket support.' +\n",
       "              'Please try Chrome, Safari or Firefox ≥ 6. ' +\n",
       "              'Firefox 4 and 5 are also supported but you ' +\n",
       "              'have to enable WebSockets in about:config.');\n",
       "    };\n",
       "}\n",
       "\n",
       "mpl.figure = function(figure_id, websocket, ondownload, parent_element) {\n",
       "    this.id = figure_id;\n",
       "\n",
       "    this.ws = websocket;\n",
       "\n",
       "    this.supports_binary = (this.ws.binaryType != undefined);\n",
       "\n",
       "    if (!this.supports_binary) {\n",
       "        var warnings = document.getElementById(\"mpl-warnings\");\n",
       "        if (warnings) {\n",
       "            warnings.style.display = 'block';\n",
       "            warnings.textContent = (\n",
       "                \"This browser does not support binary websocket messages. \" +\n",
       "                    \"Performance may be slow.\");\n",
       "        }\n",
       "    }\n",
       "\n",
       "    this.imageObj = new Image();\n",
       "\n",
       "    this.context = undefined;\n",
       "    this.message = undefined;\n",
       "    this.canvas = undefined;\n",
       "    this.rubberband_canvas = undefined;\n",
       "    this.rubberband_context = undefined;\n",
       "    this.format_dropdown = undefined;\n",
       "\n",
       "    this.image_mode = 'full';\n",
       "\n",
       "    this.root = $('<div/>');\n",
       "    this._root_extra_style(this.root)\n",
       "    this.root.attr('style', 'display: inline-block');\n",
       "\n",
       "    $(parent_element).append(this.root);\n",
       "\n",
       "    this._init_header(this);\n",
       "    this._init_canvas(this);\n",
       "    this._init_toolbar(this);\n",
       "\n",
       "    var fig = this;\n",
       "\n",
       "    this.waiting = false;\n",
       "\n",
       "    this.ws.onopen =  function () {\n",
       "            fig.send_message(\"supports_binary\", {value: fig.supports_binary});\n",
       "            fig.send_message(\"send_image_mode\", {});\n",
       "            if (mpl.ratio != 1) {\n",
       "                fig.send_message(\"set_dpi_ratio\", {'dpi_ratio': mpl.ratio});\n",
       "            }\n",
       "            fig.send_message(\"refresh\", {});\n",
       "        }\n",
       "\n",
       "    this.imageObj.onload = function() {\n",
       "            if (fig.image_mode == 'full') {\n",
       "                // Full images could contain transparency (where diff images\n",
       "                // almost always do), so we need to clear the canvas so that\n",
       "                // there is no ghosting.\n",
       "                fig.context.clearRect(0, 0, fig.canvas.width, fig.canvas.height);\n",
       "            }\n",
       "            fig.context.drawImage(fig.imageObj, 0, 0);\n",
       "        };\n",
       "\n",
       "    this.imageObj.onunload = function() {\n",
       "        fig.ws.close();\n",
       "    }\n",
       "\n",
       "    this.ws.onmessage = this._make_on_message_function(this);\n",
       "\n",
       "    this.ondownload = ondownload;\n",
       "}\n",
       "\n",
       "mpl.figure.prototype._init_header = function() {\n",
       "    var titlebar = $(\n",
       "        '<div class=\"ui-dialog-titlebar ui-widget-header ui-corner-all ' +\n",
       "        'ui-helper-clearfix\"/>');\n",
       "    var titletext = $(\n",
       "        '<div class=\"ui-dialog-title\" style=\"width: 100%; ' +\n",
       "        'text-align: center; padding: 3px;\"/>');\n",
       "    titlebar.append(titletext)\n",
       "    this.root.append(titlebar);\n",
       "    this.header = titletext[0];\n",
       "}\n",
       "\n",
       "\n",
       "\n",
       "mpl.figure.prototype._canvas_extra_style = function(canvas_div) {\n",
       "\n",
       "}\n",
       "\n",
       "\n",
       "mpl.figure.prototype._root_extra_style = function(canvas_div) {\n",
       "\n",
       "}\n",
       "\n",
       "mpl.figure.prototype._init_canvas = function() {\n",
       "    var fig = this;\n",
       "\n",
       "    var canvas_div = $('<div/>');\n",
       "\n",
       "    canvas_div.attr('style', 'position: relative; clear: both; outline: 0');\n",
       "\n",
       "    function canvas_keyboard_event(event) {\n",
       "        return fig.key_event(event, event['data']);\n",
       "    }\n",
       "\n",
       "    canvas_div.keydown('key_press', canvas_keyboard_event);\n",
       "    canvas_div.keyup('key_release', canvas_keyboard_event);\n",
       "    this.canvas_div = canvas_div\n",
       "    this._canvas_extra_style(canvas_div)\n",
       "    this.root.append(canvas_div);\n",
       "\n",
       "    var canvas = $('<canvas/>');\n",
       "    canvas.addClass('mpl-canvas');\n",
       "    canvas.attr('style', \"left: 0; top: 0; z-index: 0; outline: 0\")\n",
       "\n",
       "    this.canvas = canvas[0];\n",
       "    this.context = canvas[0].getContext(\"2d\");\n",
       "\n",
       "    var backingStore = this.context.backingStorePixelRatio ||\n",
       "\tthis.context.webkitBackingStorePixelRatio ||\n",
       "\tthis.context.mozBackingStorePixelRatio ||\n",
       "\tthis.context.msBackingStorePixelRatio ||\n",
       "\tthis.context.oBackingStorePixelRatio ||\n",
       "\tthis.context.backingStorePixelRatio || 1;\n",
       "\n",
       "    mpl.ratio = (window.devicePixelRatio || 1) / backingStore;\n",
       "\n",
       "    var rubberband = $('<canvas/>');\n",
       "    rubberband.attr('style', \"position: absolute; left: 0; top: 0; z-index: 1;\")\n",
       "\n",
       "    var pass_mouse_events = true;\n",
       "\n",
       "    canvas_div.resizable({\n",
       "        start: function(event, ui) {\n",
       "            pass_mouse_events = false;\n",
       "        },\n",
       "        resize: function(event, ui) {\n",
       "            fig.request_resize(ui.size.width, ui.size.height);\n",
       "        },\n",
       "        stop: function(event, ui) {\n",
       "            pass_mouse_events = true;\n",
       "            fig.request_resize(ui.size.width, ui.size.height);\n",
       "        },\n",
       "    });\n",
       "\n",
       "    function mouse_event_fn(event) {\n",
       "        if (pass_mouse_events)\n",
       "            return fig.mouse_event(event, event['data']);\n",
       "    }\n",
       "\n",
       "    rubberband.mousedown('button_press', mouse_event_fn);\n",
       "    rubberband.mouseup('button_release', mouse_event_fn);\n",
       "    // Throttle sequential mouse events to 1 every 20ms.\n",
       "    rubberband.mousemove('motion_notify', mouse_event_fn);\n",
       "\n",
       "    rubberband.mouseenter('figure_enter', mouse_event_fn);\n",
       "    rubberband.mouseleave('figure_leave', mouse_event_fn);\n",
       "\n",
       "    canvas_div.on(\"wheel\", function (event) {\n",
       "        event = event.originalEvent;\n",
       "        event['data'] = 'scroll'\n",
       "        if (event.deltaY < 0) {\n",
       "            event.step = 1;\n",
       "        } else {\n",
       "            event.step = -1;\n",
       "        }\n",
       "        mouse_event_fn(event);\n",
       "    });\n",
       "\n",
       "    canvas_div.append(canvas);\n",
       "    canvas_div.append(rubberband);\n",
       "\n",
       "    this.rubberband = rubberband;\n",
       "    this.rubberband_canvas = rubberband[0];\n",
       "    this.rubberband_context = rubberband[0].getContext(\"2d\");\n",
       "    this.rubberband_context.strokeStyle = \"#000000\";\n",
       "\n",
       "    this._resize_canvas = function(width, height) {\n",
       "        // Keep the size of the canvas, canvas container, and rubber band\n",
       "        // canvas in synch.\n",
       "        canvas_div.css('width', width)\n",
       "        canvas_div.css('height', height)\n",
       "\n",
       "        canvas.attr('width', width * mpl.ratio);\n",
       "        canvas.attr('height', height * mpl.ratio);\n",
       "        canvas.attr('style', 'width: ' + width + 'px; height: ' + height + 'px;');\n",
       "\n",
       "        rubberband.attr('width', width);\n",
       "        rubberband.attr('height', height);\n",
       "    }\n",
       "\n",
       "    // Set the figure to an initial 600x600px, this will subsequently be updated\n",
       "    // upon first draw.\n",
       "    this._resize_canvas(600, 600);\n",
       "\n",
       "    // Disable right mouse context menu.\n",
       "    $(this.rubberband_canvas).bind(\"contextmenu\",function(e){\n",
       "        return false;\n",
       "    });\n",
       "\n",
       "    function set_focus () {\n",
       "        canvas.focus();\n",
       "        canvas_div.focus();\n",
       "    }\n",
       "\n",
       "    window.setTimeout(set_focus, 100);\n",
       "}\n",
       "\n",
       "mpl.figure.prototype._init_toolbar = function() {\n",
       "    var fig = this;\n",
       "\n",
       "    var nav_element = $('<div/>')\n",
       "    nav_element.attr('style', 'width: 100%');\n",
       "    this.root.append(nav_element);\n",
       "\n",
       "    // Define a callback function for later on.\n",
       "    function toolbar_event(event) {\n",
       "        return fig.toolbar_button_onclick(event['data']);\n",
       "    }\n",
       "    function toolbar_mouse_event(event) {\n",
       "        return fig.toolbar_button_onmouseover(event['data']);\n",
       "    }\n",
       "\n",
       "    for(var toolbar_ind in mpl.toolbar_items) {\n",
       "        var name = mpl.toolbar_items[toolbar_ind][0];\n",
       "        var tooltip = mpl.toolbar_items[toolbar_ind][1];\n",
       "        var image = mpl.toolbar_items[toolbar_ind][2];\n",
       "        var method_name = mpl.toolbar_items[toolbar_ind][3];\n",
       "\n",
       "        if (!name) {\n",
       "            // put a spacer in here.\n",
       "            continue;\n",
       "        }\n",
       "        var button = $('<button/>');\n",
       "        button.addClass('ui-button ui-widget ui-state-default ui-corner-all ' +\n",
       "                        'ui-button-icon-only');\n",
       "        button.attr('role', 'button');\n",
       "        button.attr('aria-disabled', 'false');\n",
       "        button.click(method_name, toolbar_event);\n",
       "        button.mouseover(tooltip, toolbar_mouse_event);\n",
       "\n",
       "        var icon_img = $('<span/>');\n",
       "        icon_img.addClass('ui-button-icon-primary ui-icon');\n",
       "        icon_img.addClass(image);\n",
       "        icon_img.addClass('ui-corner-all');\n",
       "\n",
       "        var tooltip_span = $('<span/>');\n",
       "        tooltip_span.addClass('ui-button-text');\n",
       "        tooltip_span.html(tooltip);\n",
       "\n",
       "        button.append(icon_img);\n",
       "        button.append(tooltip_span);\n",
       "\n",
       "        nav_element.append(button);\n",
       "    }\n",
       "\n",
       "    var fmt_picker_span = $('<span/>');\n",
       "\n",
       "    var fmt_picker = $('<select/>');\n",
       "    fmt_picker.addClass('mpl-toolbar-option ui-widget ui-widget-content');\n",
       "    fmt_picker_span.append(fmt_picker);\n",
       "    nav_element.append(fmt_picker_span);\n",
       "    this.format_dropdown = fmt_picker[0];\n",
       "\n",
       "    for (var ind in mpl.extensions) {\n",
       "        var fmt = mpl.extensions[ind];\n",
       "        var option = $(\n",
       "            '<option/>', {selected: fmt === mpl.default_extension}).html(fmt);\n",
       "        fmt_picker.append(option)\n",
       "    }\n",
       "\n",
       "    // Add hover states to the ui-buttons\n",
       "    $( \".ui-button\" ).hover(\n",
       "        function() { $(this).addClass(\"ui-state-hover\");},\n",
       "        function() { $(this).removeClass(\"ui-state-hover\");}\n",
       "    );\n",
       "\n",
       "    var status_bar = $('<span class=\"mpl-message\"/>');\n",
       "    nav_element.append(status_bar);\n",
       "    this.message = status_bar[0];\n",
       "}\n",
       "\n",
       "mpl.figure.prototype.request_resize = function(x_pixels, y_pixels) {\n",
       "    // Request matplotlib to resize the figure. Matplotlib will then trigger a resize in the client,\n",
       "    // which will in turn request a refresh of the image.\n",
       "    this.send_message('resize', {'width': x_pixels, 'height': y_pixels});\n",
       "}\n",
       "\n",
       "mpl.figure.prototype.send_message = function(type, properties) {\n",
       "    properties['type'] = type;\n",
       "    properties['figure_id'] = this.id;\n",
       "    this.ws.send(JSON.stringify(properties));\n",
       "}\n",
       "\n",
       "mpl.figure.prototype.send_draw_message = function() {\n",
       "    if (!this.waiting) {\n",
       "        this.waiting = true;\n",
       "        this.ws.send(JSON.stringify({type: \"draw\", figure_id: this.id}));\n",
       "    }\n",
       "}\n",
       "\n",
       "\n",
       "mpl.figure.prototype.handle_save = function(fig, msg) {\n",
       "    var format_dropdown = fig.format_dropdown;\n",
       "    var format = format_dropdown.options[format_dropdown.selectedIndex].value;\n",
       "    fig.ondownload(fig, format);\n",
       "}\n",
       "\n",
       "\n",
       "mpl.figure.prototype.handle_resize = function(fig, msg) {\n",
       "    var size = msg['size'];\n",
       "    if (size[0] != fig.canvas.width || size[1] != fig.canvas.height) {\n",
       "        fig._resize_canvas(size[0], size[1]);\n",
       "        fig.send_message(\"refresh\", {});\n",
       "    };\n",
       "}\n",
       "\n",
       "mpl.figure.prototype.handle_rubberband = function(fig, msg) {\n",
       "    var x0 = msg['x0'] / mpl.ratio;\n",
       "    var y0 = (fig.canvas.height - msg['y0']) / mpl.ratio;\n",
       "    var x1 = msg['x1'] / mpl.ratio;\n",
       "    var y1 = (fig.canvas.height - msg['y1']) / mpl.ratio;\n",
       "    x0 = Math.floor(x0) + 0.5;\n",
       "    y0 = Math.floor(y0) + 0.5;\n",
       "    x1 = Math.floor(x1) + 0.5;\n",
       "    y1 = Math.floor(y1) + 0.5;\n",
       "    var min_x = Math.min(x0, x1);\n",
       "    var min_y = Math.min(y0, y1);\n",
       "    var width = Math.abs(x1 - x0);\n",
       "    var height = Math.abs(y1 - y0);\n",
       "\n",
       "    fig.rubberband_context.clearRect(\n",
       "        0, 0, fig.canvas.width, fig.canvas.height);\n",
       "\n",
       "    fig.rubberband_context.strokeRect(min_x, min_y, width, height);\n",
       "}\n",
       "\n",
       "mpl.figure.prototype.handle_figure_label = function(fig, msg) {\n",
       "    // Updates the figure title.\n",
       "    fig.header.textContent = msg['label'];\n",
       "}\n",
       "\n",
       "mpl.figure.prototype.handle_cursor = function(fig, msg) {\n",
       "    var cursor = msg['cursor'];\n",
       "    switch(cursor)\n",
       "    {\n",
       "    case 0:\n",
       "        cursor = 'pointer';\n",
       "        break;\n",
       "    case 1:\n",
       "        cursor = 'default';\n",
       "        break;\n",
       "    case 2:\n",
       "        cursor = 'crosshair';\n",
       "        break;\n",
       "    case 3:\n",
       "        cursor = 'move';\n",
       "        break;\n",
       "    }\n",
       "    fig.rubberband_canvas.style.cursor = cursor;\n",
       "}\n",
       "\n",
       "mpl.figure.prototype.handle_message = function(fig, msg) {\n",
       "    fig.message.textContent = msg['message'];\n",
       "}\n",
       "\n",
       "mpl.figure.prototype.handle_draw = function(fig, msg) {\n",
       "    // Request the server to send over a new figure.\n",
       "    fig.send_draw_message();\n",
       "}\n",
       "\n",
       "mpl.figure.prototype.handle_image_mode = function(fig, msg) {\n",
       "    fig.image_mode = msg['mode'];\n",
       "}\n",
       "\n",
       "mpl.figure.prototype.updated_canvas_event = function() {\n",
       "    // Called whenever the canvas gets updated.\n",
       "    this.send_message(\"ack\", {});\n",
       "}\n",
       "\n",
       "// A function to construct a web socket function for onmessage handling.\n",
       "// Called in the figure constructor.\n",
       "mpl.figure.prototype._make_on_message_function = function(fig) {\n",
       "    return function socket_on_message(evt) {\n",
       "        if (evt.data instanceof Blob) {\n",
       "            /* FIXME: We get \"Resource interpreted as Image but\n",
       "             * transferred with MIME type text/plain:\" errors on\n",
       "             * Chrome.  But how to set the MIME type?  It doesn't seem\n",
       "             * to be part of the websocket stream */\n",
       "            evt.data.type = \"image/png\";\n",
       "\n",
       "            /* Free the memory for the previous frames */\n",
       "            if (fig.imageObj.src) {\n",
       "                (window.URL || window.webkitURL).revokeObjectURL(\n",
       "                    fig.imageObj.src);\n",
       "            }\n",
       "\n",
       "            fig.imageObj.src = (window.URL || window.webkitURL).createObjectURL(\n",
       "                evt.data);\n",
       "            fig.updated_canvas_event();\n",
       "            fig.waiting = false;\n",
       "            return;\n",
       "        }\n",
       "        else if (typeof evt.data === 'string' && evt.data.slice(0, 21) == \"data:image/png;base64\") {\n",
       "            fig.imageObj.src = evt.data;\n",
       "            fig.updated_canvas_event();\n",
       "            fig.waiting = false;\n",
       "            return;\n",
       "        }\n",
       "\n",
       "        var msg = JSON.parse(evt.data);\n",
       "        var msg_type = msg['type'];\n",
       "\n",
       "        // Call the  \"handle_{type}\" callback, which takes\n",
       "        // the figure and JSON message as its only arguments.\n",
       "        try {\n",
       "            var callback = fig[\"handle_\" + msg_type];\n",
       "        } catch (e) {\n",
       "            console.log(\"No handler for the '\" + msg_type + \"' message type: \", msg);\n",
       "            return;\n",
       "        }\n",
       "\n",
       "        if (callback) {\n",
       "            try {\n",
       "                // console.log(\"Handling '\" + msg_type + \"' message: \", msg);\n",
       "                callback(fig, msg);\n",
       "            } catch (e) {\n",
       "                console.log(\"Exception inside the 'handler_\" + msg_type + \"' callback:\", e, e.stack, msg);\n",
       "            }\n",
       "        }\n",
       "    };\n",
       "}\n",
       "\n",
       "// from http://stackoverflow.com/questions/1114465/getting-mouse-location-in-canvas\n",
       "mpl.findpos = function(e) {\n",
       "    //this section is from http://www.quirksmode.org/js/events_properties.html\n",
       "    var targ;\n",
       "    if (!e)\n",
       "        e = window.event;\n",
       "    if (e.target)\n",
       "        targ = e.target;\n",
       "    else if (e.srcElement)\n",
       "        targ = e.srcElement;\n",
       "    if (targ.nodeType == 3) // defeat Safari bug\n",
       "        targ = targ.parentNode;\n",
       "\n",
       "    // jQuery normalizes the pageX and pageY\n",
       "    // pageX,Y are the mouse positions relative to the document\n",
       "    // offset() returns the position of the element relative to the document\n",
       "    var x = e.pageX - $(targ).offset().left;\n",
       "    var y = e.pageY - $(targ).offset().top;\n",
       "\n",
       "    return {\"x\": x, \"y\": y};\n",
       "};\n",
       "\n",
       "/*\n",
       " * return a copy of an object with only non-object keys\n",
       " * we need this to avoid circular references\n",
       " * http://stackoverflow.com/a/24161582/3208463\n",
       " */\n",
       "function simpleKeys (original) {\n",
       "  return Object.keys(original).reduce(function (obj, key) {\n",
       "    if (typeof original[key] !== 'object')\n",
       "        obj[key] = original[key]\n",
       "    return obj;\n",
       "  }, {});\n",
       "}\n",
       "\n",
       "mpl.figure.prototype.mouse_event = function(event, name) {\n",
       "    var canvas_pos = mpl.findpos(event)\n",
       "\n",
       "    if (name === 'button_press')\n",
       "    {\n",
       "        this.canvas.focus();\n",
       "        this.canvas_div.focus();\n",
       "    }\n",
       "\n",
       "    var x = canvas_pos.x * mpl.ratio;\n",
       "    var y = canvas_pos.y * mpl.ratio;\n",
       "\n",
       "    this.send_message(name, {x: x, y: y, button: event.button,\n",
       "                             step: event.step,\n",
       "                             guiEvent: simpleKeys(event)});\n",
       "\n",
       "    /* This prevents the web browser from automatically changing to\n",
       "     * the text insertion cursor when the button is pressed.  We want\n",
       "     * to control all of the cursor setting manually through the\n",
       "     * 'cursor' event from matplotlib */\n",
       "    event.preventDefault();\n",
       "    return false;\n",
       "}\n",
       "\n",
       "mpl.figure.prototype._key_event_extra = function(event, name) {\n",
       "    // Handle any extra behaviour associated with a key event\n",
       "}\n",
       "\n",
       "mpl.figure.prototype.key_event = function(event, name) {\n",
       "\n",
       "    // Prevent repeat events\n",
       "    if (name == 'key_press')\n",
       "    {\n",
       "        if (event.which === this._key)\n",
       "            return;\n",
       "        else\n",
       "            this._key = event.which;\n",
       "    }\n",
       "    if (name == 'key_release')\n",
       "        this._key = null;\n",
       "\n",
       "    var value = '';\n",
       "    if (event.ctrlKey && event.which != 17)\n",
       "        value += \"ctrl+\";\n",
       "    if (event.altKey && event.which != 18)\n",
       "        value += \"alt+\";\n",
       "    if (event.shiftKey && event.which != 16)\n",
       "        value += \"shift+\";\n",
       "\n",
       "    value += 'k';\n",
       "    value += event.which.toString();\n",
       "\n",
       "    this._key_event_extra(event, name);\n",
       "\n",
       "    this.send_message(name, {key: value,\n",
       "                             guiEvent: simpleKeys(event)});\n",
       "    return false;\n",
       "}\n",
       "\n",
       "mpl.figure.prototype.toolbar_button_onclick = function(name) {\n",
       "    if (name == 'download') {\n",
       "        this.handle_save(this, null);\n",
       "    } else {\n",
       "        this.send_message(\"toolbar_button\", {name: name});\n",
       "    }\n",
       "};\n",
       "\n",
       "mpl.figure.prototype.toolbar_button_onmouseover = function(tooltip) {\n",
       "    this.message.textContent = tooltip;\n",
       "};\n",
       "mpl.toolbar_items = [[\"Home\", \"Reset original view\", \"fa fa-home icon-home\", \"home\"], [\"Back\", \"Back to previous view\", \"fa fa-arrow-left icon-arrow-left\", \"back\"], [\"Forward\", \"Forward to next view\", \"fa fa-arrow-right icon-arrow-right\", \"forward\"], [\"\", \"\", \"\", \"\"], [\"Pan\", \"Pan axes with left mouse, zoom with right\", \"fa fa-arrows icon-move\", \"pan\"], [\"Zoom\", \"Zoom to rectangle\", \"fa fa-square-o icon-check-empty\", \"zoom\"], [\"\", \"\", \"\", \"\"], [\"Download\", \"Download plot\", \"fa fa-floppy-o icon-save\", \"download\"]];\n",
       "\n",
       "mpl.extensions = [\"eps\", \"jpeg\", \"pdf\", \"png\", \"ps\", \"raw\", \"svg\", \"tif\"];\n",
       "\n",
       "mpl.default_extension = \"png\";var comm_websocket_adapter = function(comm) {\n",
       "    // Create a \"websocket\"-like object which calls the given IPython comm\n",
       "    // object with the appropriate methods. Currently this is a non binary\n",
       "    // socket, so there is still some room for performance tuning.\n",
       "    var ws = {};\n",
       "\n",
       "    ws.close = function() {\n",
       "        comm.close()\n",
       "    };\n",
       "    ws.send = function(m) {\n",
       "        //console.log('sending', m);\n",
       "        comm.send(m);\n",
       "    };\n",
       "    // Register the callback with on_msg.\n",
       "    comm.on_msg(function(msg) {\n",
       "        //console.log('receiving', msg['content']['data'], msg);\n",
       "        // Pass the mpl event to the overridden (by mpl) onmessage function.\n",
       "        ws.onmessage(msg['content']['data'])\n",
       "    });\n",
       "    return ws;\n",
       "}\n",
       "\n",
       "mpl.mpl_figure_comm = function(comm, msg) {\n",
       "    // This is the function which gets called when the mpl process\n",
       "    // starts-up an IPython Comm through the \"matplotlib\" channel.\n",
       "\n",
       "    var id = msg.content.data.id;\n",
       "    // Get hold of the div created by the display call when the Comm\n",
       "    // socket was opened in Python.\n",
       "    var element = $(\"#\" + id);\n",
       "    var ws_proxy = comm_websocket_adapter(comm)\n",
       "\n",
       "    function ondownload(figure, format) {\n",
       "        window.open(figure.imageObj.src);\n",
       "    }\n",
       "\n",
       "    var fig = new mpl.figure(id, ws_proxy,\n",
       "                           ondownload,\n",
       "                           element.get(0));\n",
       "\n",
       "    // Call onopen now - mpl needs it, as it is assuming we've passed it a real\n",
       "    // web socket which is closed, not our websocket->open comm proxy.\n",
       "    ws_proxy.onopen();\n",
       "\n",
       "    fig.parent_element = element.get(0);\n",
       "    fig.cell_info = mpl.find_output_cell(\"<div id='\" + id + \"'></div>\");\n",
       "    if (!fig.cell_info) {\n",
       "        console.error(\"Failed to find cell for figure\", id, fig);\n",
       "        return;\n",
       "    }\n",
       "\n",
       "    var output_index = fig.cell_info[2]\n",
       "    var cell = fig.cell_info[0];\n",
       "\n",
       "};\n",
       "\n",
       "mpl.figure.prototype.handle_close = function(fig, msg) {\n",
       "    var width = fig.canvas.width/mpl.ratio\n",
       "    fig.root.unbind('remove')\n",
       "\n",
       "    // Update the output cell to use the data from the current canvas.\n",
       "    fig.push_to_output();\n",
       "    var dataURL = fig.canvas.toDataURL();\n",
       "    // Re-enable the keyboard manager in IPython - without this line, in FF,\n",
       "    // the notebook keyboard shortcuts fail.\n",
       "    IPython.keyboard_manager.enable()\n",
       "    $(fig.parent_element).html('<img src=\"' + dataURL + '\" width=\"' + width + '\">');\n",
       "    fig.close_ws(fig, msg);\n",
       "}\n",
       "\n",
       "mpl.figure.prototype.close_ws = function(fig, msg){\n",
       "    fig.send_message('closing', msg);\n",
       "    // fig.ws.close()\n",
       "}\n",
       "\n",
       "mpl.figure.prototype.push_to_output = function(remove_interactive) {\n",
       "    // Turn the data on the canvas into data in the output cell.\n",
       "    var width = this.canvas.width/mpl.ratio\n",
       "    var dataURL = this.canvas.toDataURL();\n",
       "    this.cell_info[1]['text/html'] = '<img src=\"' + dataURL + '\" width=\"' + width + '\">';\n",
       "}\n",
       "\n",
       "mpl.figure.prototype.updated_canvas_event = function() {\n",
       "    // Tell IPython that the notebook contents must change.\n",
       "    IPython.notebook.set_dirty(true);\n",
       "    this.send_message(\"ack\", {});\n",
       "    var fig = this;\n",
       "    // Wait a second, then push the new image to the DOM so\n",
       "    // that it is saved nicely (might be nice to debounce this).\n",
       "    setTimeout(function () { fig.push_to_output() }, 1000);\n",
       "}\n",
       "\n",
       "mpl.figure.prototype._init_toolbar = function() {\n",
       "    var fig = this;\n",
       "\n",
       "    var nav_element = $('<div/>')\n",
       "    nav_element.attr('style', 'width: 100%');\n",
       "    this.root.append(nav_element);\n",
       "\n",
       "    // Define a callback function for later on.\n",
       "    function toolbar_event(event) {\n",
       "        return fig.toolbar_button_onclick(event['data']);\n",
       "    }\n",
       "    function toolbar_mouse_event(event) {\n",
       "        return fig.toolbar_button_onmouseover(event['data']);\n",
       "    }\n",
       "\n",
       "    for(var toolbar_ind in mpl.toolbar_items){\n",
       "        var name = mpl.toolbar_items[toolbar_ind][0];\n",
       "        var tooltip = mpl.toolbar_items[toolbar_ind][1];\n",
       "        var image = mpl.toolbar_items[toolbar_ind][2];\n",
       "        var method_name = mpl.toolbar_items[toolbar_ind][3];\n",
       "\n",
       "        if (!name) { continue; };\n",
       "\n",
       "        var button = $('<button class=\"btn btn-default\" href=\"#\" title=\"' + name + '\"><i class=\"fa ' + image + ' fa-lg\"></i></button>');\n",
       "        button.click(method_name, toolbar_event);\n",
       "        button.mouseover(tooltip, toolbar_mouse_event);\n",
       "        nav_element.append(button);\n",
       "    }\n",
       "\n",
       "    // Add the status bar.\n",
       "    var status_bar = $('<span class=\"mpl-message\" style=\"text-align:right; float: right;\"/>');\n",
       "    nav_element.append(status_bar);\n",
       "    this.message = status_bar[0];\n",
       "\n",
       "    // Add the close button to the window.\n",
       "    var buttongrp = $('<div class=\"btn-group inline pull-right\"></div>');\n",
       "    var button = $('<button class=\"btn btn-mini btn-primary\" href=\"#\" title=\"Stop Interaction\"><i class=\"fa fa-power-off icon-remove icon-large\"></i></button>');\n",
       "    button.click(function (evt) { fig.handle_close(fig, {}); } );\n",
       "    button.mouseover('Stop Interaction', toolbar_mouse_event);\n",
       "    buttongrp.append(button);\n",
       "    var titlebar = this.root.find($('.ui-dialog-titlebar'));\n",
       "    titlebar.prepend(buttongrp);\n",
       "}\n",
       "\n",
       "mpl.figure.prototype._root_extra_style = function(el){\n",
       "    var fig = this\n",
       "    el.on(\"remove\", function(){\n",
       "\tfig.close_ws(fig, {});\n",
       "    });\n",
       "}\n",
       "\n",
       "mpl.figure.prototype._canvas_extra_style = function(el){\n",
       "    // this is important to make the div 'focusable\n",
       "    el.attr('tabindex', 0)\n",
       "    // reach out to IPython and tell the keyboard manager to turn it's self\n",
       "    // off when our div gets focus\n",
       "\n",
       "    // location in version 3\n",
       "    if (IPython.notebook.keyboard_manager) {\n",
       "        IPython.notebook.keyboard_manager.register_events(el);\n",
       "    }\n",
       "    else {\n",
       "        // location in version 2\n",
       "        IPython.keyboard_manager.register_events(el);\n",
       "    }\n",
       "\n",
       "}\n",
       "\n",
       "mpl.figure.prototype._key_event_extra = function(event, name) {\n",
       "    var manager = IPython.notebook.keyboard_manager;\n",
       "    if (!manager)\n",
       "        manager = IPython.keyboard_manager;\n",
       "\n",
       "    // Check for shift+enter\n",
       "    if (event.shiftKey && event.which == 13) {\n",
       "        this.canvas_div.blur();\n",
       "        event.shiftKey = false;\n",
       "        // Send a \"J\" for go to next cell\n",
       "        event.which = 74;\n",
       "        event.keyCode = 74;\n",
       "        manager.command_mode();\n",
       "        manager.handle_keydown(event);\n",
       "    }\n",
       "}\n",
       "\n",
       "mpl.figure.prototype.handle_save = function(fig, msg) {\n",
       "    fig.ondownload(fig, null);\n",
       "}\n",
       "\n",
       "\n",
       "mpl.find_output_cell = function(html_output) {\n",
       "    // Return the cell and output element which can be found *uniquely* in the notebook.\n",
       "    // Note - this is a bit hacky, but it is done because the \"notebook_saving.Notebook\"\n",
       "    // IPython event is triggered only after the cells have been serialised, which for\n",
       "    // our purposes (turning an active figure into a static one), is too late.\n",
       "    var cells = IPython.notebook.get_cells();\n",
       "    var ncells = cells.length;\n",
       "    for (var i=0; i<ncells; i++) {\n",
       "        var cell = cells[i];\n",
       "        if (cell.cell_type === 'code'){\n",
       "            for (var j=0; j<cell.output_area.outputs.length; j++) {\n",
       "                var data = cell.output_area.outputs[j];\n",
       "                if (data.data) {\n",
       "                    // IPython >= 3 moved mimebundle to data attribute of output\n",
       "                    data = data.data;\n",
       "                }\n",
       "                if (data['text/html'] == html_output) {\n",
       "                    return [cell, data, j];\n",
       "                }\n",
       "            }\n",
       "        }\n",
       "    }\n",
       "}\n",
       "\n",
       "// Register the function which deals with the matplotlib target/channel.\n",
       "// The kernel may be null if the page has been refreshed.\n",
       "if (IPython.notebook.kernel != null) {\n",
       "    IPython.notebook.kernel.comm_manager.register_target('matplotlib', mpl.mpl_figure_comm);\n",
       "}\n"
      ],
      "text/plain": [
       "<IPython.core.display.Javascript object>"
      ]
     },
     "metadata": {},
     "output_type": "display_data"
    },
    {
     "data": {
      "text/html": [
       "<img src=\"data:image/png;base64,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\" width=\"936\">"
      ],
      "text/plain": [
       "<IPython.core.display.HTML object>"
      ]
     },
     "metadata": {},
     "output_type": "display_data"
    },
    {
     "data": {
      "text/plain": [
       "Text(0, 0.5, 'Temperature in degree Celsius')"
      ]
     },
     "execution_count": 30,
     "metadata": {},
     "output_type": "execute_result"
    }
   ],
   "source": [
    "plt.figure(figsize=(13, 10))\n",
    "plt.plot(tt, uvic_sci_min[3:], 'k')\n",
    "plt.grid()\n",
    "plt.title(\"Minute Resolution Temperature from UVic Science Building\")\n",
    "plt.xlabel(\"Minutes\")\n",
    "plt.ylabel(\"Temperature in degree Celsius\")"
   ]
  },
  {
   "cell_type": "code",
   "execution_count": 31,
   "metadata": {},
   "outputs": [],
   "source": [
    "plt.close()"
   ]
  },
  {
   "cell_type": "code",
   "execution_count": 25,
   "metadata": {},
   "outputs": [],
   "source": [
    "all_hour = np.loadtxt(\"Data/AllStations_temperature_hour_data_2017.dat\")"
   ]
  },
  {
   "cell_type": "code",
   "execution_count": 26,
   "metadata": {},
   "outputs": [
    {
     "data": {
      "text/plain": [
       "array([    nan, 236.554, 236.499, 236.679, 236.607, 236.514, 236.63 ,\n",
       "       236.523, 236.543, 236.662, 236.304, 236.604, 236.43 , 236.7  ,\n",
       "       236.471, 236.446, 236.25 , 236.283, 236.597, 236.635, 236.494,\n",
       "       236.672, 236.639, 236.595, 236.67 , 236.686, 236.579, 236.639,\n",
       "       236.641, 236.619, 236.514, 236.357, 236.574, 236.596, 236.676,\n",
       "       236.691, 236.689, 236.451])"
      ]
     },
     "execution_count": 26,
     "metadata": {},
     "output_type": "execute_result"
    }
   ],
   "source": [
    "all_hour[0]"
   ]
  },
  {
   "cell_type": "code",
   "execution_count": 27,
   "metadata": {},
   "outputs": [
    {
     "data": {
      "text/plain": [
       "84723"
      ]
     },
     "execution_count": 27,
     "metadata": {},
     "output_type": "execute_result"
    }
   ],
   "source": [
    "len(all_hour)"
   ]
  },
  {
   "cell_type": "code",
   "execution_count": 28,
   "metadata": {},
   "outputs": [
    {
     "data": {
      "text/plain": [
       "38"
      ]
     },
     "execution_count": 28,
     "metadata": {},
     "output_type": "execute_result"
    }
   ],
   "source": [
    "len(all_hour[0])"
   ]
  },
  {
   "cell_type": "code",
   "execution_count": 29,
   "metadata": {},
   "outputs": [
    {
     "data": {
      "text/plain": [
       "array([7.33408042e+05, 3.06000000e+00, 1.38000000e+00, 4.28000000e+00,\n",
       "       4.77000000e+00, 3.46000000e+00, 4.21000000e+00, 2.64000000e+00,\n",
       "       4.15000000e+00, 4.61000000e+00, 4.95000000e+00, 4.59000000e+00,\n",
       "       1.92000000e+00, 4.74000000e+00, 2.96000000e+00, 3.19000000e+00,\n",
       "       4.43000000e+00, 4.06000000e+00, 3.40000000e+00, 4.36000000e+00,\n",
       "       3.26000000e+00, 4.61000000e+00, 4.61000000e+00, 4.55000000e+00,\n",
       "       4.34000000e+00, 4.64000000e+00, 5.21000000e+00, 4.74000000e+00,\n",
       "       4.41000000e+00, 4.30000000e+00, 2.87000000e+00,            nan,\n",
       "       4.15000000e+00, 4.60000000e+00, 4.44000000e+00,            nan,\n",
       "       4.85000000e+00, 4.05000000e+00])"
      ]
     },
     "execution_count": 29,
     "metadata": {},
     "output_type": "execute_result"
    }
   ],
   "source": [
    "all_hour[3]"
   ]
  },
  {
   "cell_type": "code",
   "execution_count": 30,
   "metadata": {},
   "outputs": [],
   "source": [
    "all_hour = all_hour.reshape(len(all_hour[0]), len(all_hour))"
   ]
  },
  {
   "cell_type": "code",
   "execution_count": 31,
   "metadata": {},
   "outputs": [
    {
     "data": {
      "text/plain": [
       "38"
      ]
     },
     "execution_count": 31,
     "metadata": {},
     "output_type": "execute_result"
    }
   ],
   "source": [
    "len(all_hour)"
   ]
  },
  {
   "cell_type": "code",
   "execution_count": 32,
   "metadata": {},
   "outputs": [
    {
     "data": {
      "text/plain": [
       "array([    nan, 236.554, 236.499, ...,   7.35 ,   7.85 ,   7.12 ])"
      ]
     },
     "execution_count": 32,
     "metadata": {},
     "output_type": "execute_result"
    }
   ],
   "source": [
    "all_hour[0]"
   ]
  },
  {
   "cell_type": "code",
   "execution_count": 38,
   "metadata": {},
   "outputs": [
    {
     "data": {
      "text/plain": [
       "array([12.65, 12.45, 12.98, ...,  5.73,  6.48,  5.43])"
      ]
     },
     "execution_count": 38,
     "metadata": {},
     "output_type": "execute_result"
    }
   ],
   "source": [
    "all_hour[3]"
   ]
  },
  {
   "cell_type": "code",
   "execution_count": 18,
   "metadata": {},
   "outputs": [],
   "source": [
    "uvic_sci_hour = all_hour[-3]"
   ]
  },
  {
   "cell_type": "code",
   "execution_count": 24,
   "metadata": {},
   "outputs": [
    {
     "data": {
      "text/plain": [
       "array([    nan, 236.554, 236.499, ...,   7.35 ,   7.85 ,   7.12 ])"
      ]
     },
     "execution_count": 24,
     "metadata": {},
     "output_type": "execute_result"
    }
   ],
   "source": [
    "all_hour[0]"
   ]
  },
  {
   "cell_type": "code",
   "execution_count": 20,
   "metadata": {},
   "outputs": [
    {
     "data": {
      "text/plain": [
       "84723"
      ]
     },
     "execution_count": 20,
     "metadata": {},
     "output_type": "execute_result"
    }
   ],
   "source": [
    "len(uvic_sci_hour)"
   ]
  },
  {
   "cell_type": "code",
   "execution_count": 21,
   "metadata": {},
   "outputs": [
    {
     "data": {
      "text/plain": [
       "array([5.3 , 2.42, 4.33, ..., 0.89, 2.83, 3.34])"
      ]
     },
     "execution_count": 21,
     "metadata": {},
     "output_type": "execute_result"
    }
   ],
   "source": [
    "uvic_sci_hour"
   ]
  },
  {
   "cell_type": "code",
   "execution_count": null,
   "metadata": {},
   "outputs": [],
   "source": []
  }
 ],
 "metadata": {
  "kernelspec": {
   "display_name": "Python 3",
   "language": "python",
   "name": "python3"
  },
  "language_info": {
   "codemirror_mode": {
    "name": "ipython",
    "version": 3
   },
   "file_extension": ".py",
   "mimetype": "text/x-python",
   "name": "python",
   "nbconvert_exporter": "python",
   "pygments_lexer": "ipython3",
   "version": "3.6.8"
  }
 },
 "nbformat": 4,
 "nbformat_minor": 2
}
